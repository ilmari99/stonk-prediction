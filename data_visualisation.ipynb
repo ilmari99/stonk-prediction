{
 "cells": [
  {
   "cell_type": "markdown",
   "metadata": {},
   "source": [
    "# Imports"
   ]
  },
  {
   "cell_type": "code",
   "execution_count": 1,
   "metadata": {},
   "outputs": [
    {
     "name": "stdout",
     "output_type": "stream",
     "text": [
      "            Unnamed: 0   REG1V.HE   NESTE.HE   ORNBV.HE   KNEBV.HE   OLVAS.HE  \\\n",
      "0  2021-10-12 07:00:00  55.950001  41.820000  35.689999  60.220001  53.099998   \n",
      "1  2021-10-12 08:00:00  55.799999  41.720001  35.630001  60.419998  53.299999   \n",
      "2  2021-10-12 09:00:00  55.700001  42.060001  35.400002  60.200001  53.200001   \n",
      "3  2021-10-12 10:00:00  55.450001  42.009998  35.500000  60.119999  52.900002   \n",
      "4  2021-10-12 11:00:00  56.000000  42.000000  35.680000  60.480000  52.599998   \n",
      "\n",
      "    HUH1V.HE   DETEC.HE   ORNAV.HE   CGCBV.HE   VAIAS.HE   ALBBV.HE  \\\n",
      "0  38.529999  23.000000  38.049999  43.139999  46.150002  28.700001   \n",
      "1  38.560001  23.000000  38.049999  43.500000  45.950001  28.799999   \n",
      "2  38.349998  23.000000  38.049999  43.619999  45.849998  28.600000   \n",
      "3  38.220001  23.200001  38.049999  43.480000  45.700001  28.500000   \n",
      "4  38.349998  23.200001  38.000000  43.279999  45.650002  28.700001   \n",
      "\n",
      "    VALMT.HE   EQV1V.HE   PON1V.HE  \n",
      "0  36.459999  24.850000  39.150002  \n",
      "1  36.599998  24.950001  39.200001  \n",
      "2  36.400002  25.000000  39.500000  \n",
      "3  36.290001  25.100000  39.549999  \n",
      "4  36.369999  25.049999  39.950001  \n",
      "          REG1V.HE     NESTE.HE     ORNBV.HE     KNEBV.HE     OLVAS.HE  \\\n",
      "count  4389.000000  4389.000000  4389.000000  4389.000000  4389.000000   \n",
      "mean     38.625249    41.329813    41.612745    47.165006    33.817390   \n",
      "std       9.039488     5.252350     5.111963     5.752345     6.514480   \n",
      "min      17.660000    28.580000    33.000000    36.889999    26.900000   \n",
      "25%      33.759998    36.599998    36.910000    42.639999    29.900000   \n",
      "50%      39.639999    43.200001    41.439999    47.160000    31.650000   \n",
      "75%      44.700001    45.150002    45.549999    49.520000    34.599998   \n",
      "max      58.450001    51.900002    54.959999    64.099998    53.299999   \n",
      "\n",
      "          HUH1V.HE     DETEC.HE     ORNAV.HE     CGCBV.HE     VAIAS.HE  \\\n",
      "count  4389.000000  4389.000000  4389.000000  4389.000000  4389.000000   \n",
      "mean     33.741003    22.474527    41.528759    39.961634    41.337446   \n",
      "std       2.570269     6.334198     5.050400     6.907898     4.598173   \n",
      "min      26.600000    10.800000    33.900002    25.000000    30.600000   \n",
      "25%      31.650000    17.299999    36.950001    34.020000    38.900002   \n",
      "50%      33.400002    22.000000    41.299999    40.360001    41.049999   \n",
      "75%      35.700001    27.600000    45.400002    45.240002    43.000000   \n",
      "max      39.910000    36.900002    54.900002    55.099998    55.599998   \n",
      "\n",
      "          ALBBV.HE     VALMT.HE     EQV1V.HE     PON1V.HE  \n",
      "count  4389.000000  4389.000000  4389.000000  4389.000000  \n",
      "mean     32.980633    27.051449    22.070473    30.249351  \n",
      "std       3.144161     4.092531     3.245970     6.151014  \n",
      "min      27.200001    20.010000    14.200000    23.100000  \n",
      "25%      30.600000    24.049999    19.280001    26.200001  \n",
      "50%      32.500000    25.980000    22.650000    27.500000  \n",
      "75%      35.299999    29.650000    24.500000    32.150002  \n",
      "max      41.599998    38.480000    28.500000    48.750000  \n"
     ]
    }
   ],
   "source": [
    "import matplotlib.pyplot as plt\n",
    "import pandas as pd\n",
    "\n",
    "# Read the data from the csv file\n",
    "df = pd.read_csv('HEL_12-10-21to08-11-23.csv')\n",
    "print(df.head())\n",
    "print(df.describe())"
   ]
  },
  {
   "cell_type": "markdown",
   "metadata": {},
   "source": [
    "# Instant Cross-Correlation"
   ]
  },
  {
   "cell_type": "code",
   "execution_count": null,
   "metadata": {},
   "outputs": [],
   "source": []
  },
  {
   "cell_type": "markdown",
   "metadata": {},
   "source": [
    "# Time Auto-Correlation"
   ]
  },
  {
   "cell_type": "code",
   "execution_count": null,
   "metadata": {},
   "outputs": [],
   "source": []
  },
  {
   "cell_type": "markdown",
   "metadata": {},
   "source": [
    "# Trend-Seasonality Decomposition"
   ]
  },
  {
   "cell_type": "code",
   "execution_count": null,
   "metadata": {},
   "outputs": [],
   "source": []
  }
 ],
 "metadata": {
  "kernelspec": {
   "display_name": ".venv",
   "language": "python",
   "name": "python3"
  },
  "language_info": {
   "codemirror_mode": {
    "name": "ipython",
    "version": 3
   },
   "file_extension": ".py",
   "mimetype": "text/x-python",
   "name": "python",
   "nbconvert_exporter": "python",
   "pygments_lexer": "ipython3",
   "version": "3.11.3"
  }
 },
 "nbformat": 4,
 "nbformat_minor": 2
}
